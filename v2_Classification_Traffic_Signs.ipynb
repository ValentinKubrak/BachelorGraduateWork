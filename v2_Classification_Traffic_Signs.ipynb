{
  "nbformat": 4,
  "nbformat_minor": 0,
  "metadata": {
    "colab": {
      "provenance": []
    },
    "kernelspec": {
      "name": "python3",
      "display_name": "Python 3"
    },
    "language_info": {
      "name": "python"
    }
  },
  "cells": [
    {
      "cell_type": "code",
      "execution_count": null,
      "metadata": {
        "id": "TZWPdMuWtomU"
      },
      "outputs": [],
      "source": [
        "from google.colab import drive\n",
        "\n",
        "drive.mount('/content/drive')"
      ]
    },
    {
      "cell_type": "code",
      "source": [
        "!git clone https://github.com/ultralytics/yolov5\n",
        "%cd yolov5\n",
        "\n",
        "!pip install -r requirements.txt"
      ],
      "metadata": {
        "id": "3ihWbWsIuMAI"
      },
      "execution_count": null,
      "outputs": []
    },
    {
      "cell_type": "code",
      "source": [
        "!python detect.py --weights /content/drive/MyDrive/GoogleColab/yolov5_project/runs/train/exp/weights/best.pt --img 1280 --conf 0.15 --source /content/drive/MyDrive/GoogleColab/data/Images"
      ],
      "metadata": {
        "id": "A5TBUEXfvcHq"
      },
      "execution_count": null,
      "outputs": []
    },
    {
      "cell_type": "code",
      "source": [
        "from IPython.display import Image, display\n",
        "import glob\n",
        "import os\n",
        "\n",
        "\n",
        "image_paths = glob.glob('runs/detect/exp2/*.jpg')\n",
        "\n",
        "\n",
        "for image_path in image_paths:\n",
        "    display(Image(filename=image_path))"
      ],
      "metadata": {
        "id": "_x6SXk6N1R3f"
      },
      "execution_count": null,
      "outputs": []
    }
  ]
}