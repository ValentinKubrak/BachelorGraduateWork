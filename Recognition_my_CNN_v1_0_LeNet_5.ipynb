{
  "nbformat": 4,
  "nbformat_minor": 0,
  "metadata": {
    "colab": {
      "provenance": []
    },
    "kernelspec": {
      "name": "python3",
      "display_name": "Python 3"
    },
    "language_info": {
      "name": "python"
    }
  },
  "cells": [
    {
      "cell_type": "code",
      "source": [
        "# Завантаження бібліотек\n",
        "import numpy as np # numpy для математичних обчислень\n",
        "import pickle # pickle для завантаження збереженої моделі"
      ],
      "metadata": {
        "id": "n2-VXfsWpnvN"
      },
      "execution_count": null,
      "outputs": []
    },
    {
      "cell_type": "code",
      "source": [
        "# Функція для завантаження збережених параметрів\n",
        "with open(filename, 'rb') as model_file:\n",
        "        # Завантаження параметрів моделі з файлу за допомогою pickle\n",
        "        parameters = pickle.load(model_file)\n",
        "    return parameters\n",
        "\n",
        "# Виклик функції load_model_parameters\n",
        "model_parameters = load_model_parameters('my_model.pkl')\n",
        "\n",
        "# Витяг параметрів з завантаженого словника\n",
        "kernel_conv1 = model_parameters['kernel_conv1']\n",
        "bias_conv1 = model_parameters['bias_conv1']\n",
        "kernel_conv2 = model_parameters['kernel_conv2']\n",
        "bias_conv2 = model_parameters['bias_conv2']\n",
        "kernel_conv3 = model_parameters['kernel_conv3']\n",
        "bias_conv3 = model_parameters['bias_conv3']\n",
        "weights_f6 = model_parameters['weights_f6']\n",
        "bias_f6 = model_parameters['bias_f6']\n",
        "weights_output = model_parameters['weights_output']\n",
        "bias_output = model_parameters['bias_output']"
      ],
      "metadata": {
        "id": "lsdRz0Gfuapj"
      },
      "execution_count": null,
      "outputs": []
    },
    {
      "cell_type": "code",
      "source": [
        "# Функція активації ReLU\n",
        "def relu(x):\n",
        "    return np.maximum(0, x)"
      ],
      "metadata": {
        "id": "yx9R5MfVphiR"
      },
      "execution_count": null,
      "outputs": []
    },
    {
      "cell_type": "code",
      "source": [
        "# Функція активації Softmax\n",
        "def softmax(x):\n",
        "    exp_x = np.exp(x - np.max(x))\n",
        "    return exp_x / np.sum(exp_x, axis=-1, keepdims=True)"
      ],
      "metadata": {
        "id": "jAR4mFpVploD"
      },
      "execution_count": null,
      "outputs": []
    },
    {
      "cell_type": "code",
      "source": [
        "# Шар згортки\n",
        "def convolution_layer(input_value, kernel, bias, stride=1, padding=0):\n",
        "    # Визначення розмірів вхідного значення\n",
        "    input_depth, input_height, input_width = input_value.shape\n",
        "    # Визначення розмірів ядра\n",
        "    kernel_depth, kernel_height, kernel_width = kernel.shape\n",
        "    # Розрахунок висоти та ширини вихідного значення\n",
        "    output_height = (input_height - kernel_height + 2 * padding) // stride + 1\n",
        "    output_width = (input_width - kernel_width + 2 * padding) // stride + 1\n",
        "    # Ініціалізація вихідного значення нулями\n",
        "    output_value = np.zeros((kernel_depth, output_height, output_width))\n",
        "    # Додавання паддінгу до вхідного значення\n",
        "    padded_input = np.pad(input_value, ((0, 0), (padding, padding), (padding, padding)), mode='constant')\n",
        "\n",
        "    # Перебір по всіх глибинах ядра\n",
        "    for d in range(kernel_depth):\n",
        "        # Перебір по висоті вхідного значення з урахуванням кроку\n",
        "        for i in range(0, input_height - kernel_height + 1, stride):\n",
        "            # Перебір по ширині вхідного значення з урахуванням кроку\n",
        "            for j in range(0, input_width - kernel_width + 1, stride):\n",
        "                # Обчислення значення на виході через згортку та додавання зміщення\n",
        "                output_value[d, i // stride, j // stride] = np.sum(\n",
        "                    padded_input[:, i:i + kernel_height, j:j + kernel_width] * kernel[d]) + bias[d]\n",
        "    # Повернення вихідного значення\n",
        "    return output_value"
      ],
      "metadata": {
        "id": "DsfovnK8uWwO"
      },
      "execution_count": null,
      "outputs": []
    },
    {
      "cell_type": "code",
      "source": [
        "# Шар максимального пулінгу\n",
        "def max_pooling(input_value, pool_size=2, stride=2):\n",
        "    # Визначення розмірів вхідного значення\n",
        "    input_depth, input_height, input_width = input_value.shape\n",
        "    # Розрахунок висоти та ширини вихідного значення\n",
        "    output_height = (input_height - pool_size) // stride + 1\n",
        "    output_width = (input_width - pool_size) // stride + 1\n",
        "    # Ініціалізація вихідного значення нулями\n",
        "    output_value = np.zeros((input_depth, output_height, output_width))\n",
        "\n",
        "    # Перебір по всіх глибинах вхідного значення\n",
        "    for d in range(input_depth):\n",
        "        # Перебір по висоті вхідного значення з урахуванням кроку\n",
        "        for i in range(0, input_height - pool_size + 1, stride):\n",
        "            # Перебір по ширині вхідного значення з урахуванням кроку\n",
        "            for j in range(0, input_width - pool_size + 1, stride):\n",
        "                # Обчислення максимального значення в поточному підвікні\n",
        "                output_value[d, i // stride, j // stride] = np.max(\n",
        "                    input_value[d, i:i + pool_size, j:j + pool_size])\n",
        "    # Повернення вихідного значення\n",
        "    return output_value"
      ],
      "metadata": {
        "id": "bVWyMQLtu4OM"
      },
      "execution_count": null,
      "outputs": []
    },
    {
      "cell_type": "code",
      "source": [
        "# Повнозв'язний шар\n",
        "def fully_connected_layer(input_value, weights, bias):\n",
        "    output_value = np.dot(input_value.flatten(), weights) + bias\n",
        "    return output_value"
      ],
      "metadata": {
        "id": "k0t2jZbLu5Qc"
      },
      "execution_count": null,
      "outputs": []
    },
    {
      "cell_type": "code",
      "source": [
        "# Шар Dropout\n",
        "def dropout_layer(input_value, dropout_rate):\n",
        "    dropout_mask = np.random.rand(*input_value.shape) < (1 - dropout_rate)\n",
        "    return input_value * dropout_mask"
      ],
      "metadata": {
        "id": "u5h6MceEu8BC"
      },
      "execution_count": null,
      "outputs": []
    },
    {
      "cell_type": "code",
      "source": [
        "def forward_propagation(image, stride=2, pool_size=2):\n",
        "    # Встановлення ймовірності dropout\n",
        "        dropout_rate = 0.25\n",
        "\n",
        "        # Пропуск через перший шар згортки та функцію активації ReLU\n",
        "        conv1_output = relu(convolution_layer(image, kernel_conv1, bias_conv1))\n",
        "        # Застосування Dropout layer\n",
        "        conv1_output = dropout_layer(conv1_output, dropout_rate)\n",
        "        # Застосування шару Max Pooling\n",
        "        pool1_output = max_pooling(conv1_output)\n",
        "\n",
        "        # Пропуск через другий шар згортки та функцію активації ReLU\n",
        "        conv2_output = relu(convolution_layer(pool1_output, kernel_conv2, bias_conv2))\n",
        "        # Застосування Dropout layer\n",
        "        conv2_output = dropout_layer(conv2_output, dropout_rate)\n",
        "        # Застосування шару Max Pooling з заданим розміром вікна та кроком\n",
        "        pool2_output = max_pooling(conv2_output, pool_size=pool_size, stride=stride)\n",
        "\n",
        "        # Пропуск через третій шар згортки та функцію активації ReLU\n",
        "        conv3_output = relu(convolution_layer(pool2_output, kernel_conv3, bias_conv3))\n",
        "\n",
        "        # Пропуск через повнозв'язний шар\n",
        "        f6_output = fully_connected_layer(conv3_output, weights_f6, bias_f6)\n",
        "        # Пропуск через шар softmax для отримання ймовірностей класів\n",
        "        output_value = softmax(fully_connected_layer(f6_output, weights_output, bias_output).reshape(1, -1))\n",
        "\n",
        "    return output_value"
      ],
      "metadata": {
        "id": "13hEBkqG5VE-"
      },
      "execution_count": null,
      "outputs": []
    },
    {
      "cell_type": "markdown",
      "source": [
        "# Recognition test"
      ],
      "metadata": {
        "id": "A1DhhJI52JEo"
      }
    },
    {
      "cell_type": "code",
      "source": [
        "# Завантаження бібліотек\n",
        "import matplotlib.pyplot as plt\n",
        "from keras.datasets import mnist\n",
        "from keras.utils import to_categorical"
      ],
      "metadata": {
        "id": "-Tv0aBqByJGT"
      },
      "execution_count": null,
      "outputs": []
    },
    {
      "cell_type": "code",
      "source": [
        "# Функція, що повертає випадкові зображення з набору даних\n",
        "def get_random_images(dataset, labels, n):\n",
        "    num_images = len(dataset)  # Отримання загальної кількості зображень\n",
        "    # Випадковий вибір індексів без повторень\n",
        "    random_indices = np.random.choice(num_images, n, replace=False)\n",
        "    # Вибір випадкових зображень та відповідних міток\n",
        "    random_images = dataset[random_indices]\n",
        "    random_labels = labels[random_indices]\n",
        "    return random_images, random_labels"
      ],
      "metadata": {
        "id": "v1jT8wPfoqI-"
      },
      "execution_count": null,
      "outputs": []
    },
    {
      "cell_type": "code",
      "source": [
        "# Завантаження набору даних MNIST\n",
        "(X_train, y_train), (X_test, y_test) = mnist.load_data()\n",
        "# Перетворення типу даних зображень на float32\n",
        "X_train = X_train.astype('float32')\n",
        "X_test = X_test.astype('float32')\n",
        "# Нормалізація зображень шляхом ділення на 255\n",
        "X_train /= 255\n",
        "X_test /= 255"
      ],
      "metadata": {
        "id": "cImLe2VPv9_e"
      },
      "execution_count": null,
      "outputs": []
    },
    {
      "cell_type": "code",
      "source": [
        "num_cols = 10  # Кількість стовпчиків на графіку\n",
        "num_images = 10  # Кількість випадкових зображень для відображення\n",
        "\n",
        "# Отримання випадкових зображень та їх міток з тренувального набору даних\n",
        "images_array, labels_array = get_random_images(X_train, y_train, num_images)\n",
        "num_rows = int(np.ceil(num_images / num_cols))  # Кількість рядків на графіку\n",
        "\n",
        "# Створення фігури та осей для графіку\n",
        "fig, axes = plt.subplots(num_rows, num_cols, figsize=(12, 3))\n",
        "\n",
        "# Цикл по всіх відображуваних зображеннях\n",
        "for i, ax in enumerate(axes.flatten()):\n",
        "    if i < num_images:  # Перевірка, чи є ще зображення для відображення\n",
        "        ax.imshow(images_array[i])  # Відображення зображення на відповідній позиції\n",
        "        ax.axis('off')  # Вимкнення відображення осей\n",
        "        ax.text(0.5, -0.20, f\"{labels_array[i]}\", size=10, ha=\"center\", transform=ax.transAxes)  # Додавання мітки під зображення\n",
        "    else:\n",
        "        ax.axis('off')  # Вимкнення відображення осей для порожніх підграфіків\n",
        "\n",
        "plt.show()  # Відображення графіку"
      ],
      "metadata": {
        "id": "RnWwEeBcm-bB"
      },
      "execution_count": null,
      "outputs": []
    },
    {
      "cell_type": "code",
      "source": [
        "class_names = ['0', '1', '2', '3', '4', '5', '6', '7', '8', '9']  # Назви класів\n",
        "\n",
        "predictions = []  # Список для зберігання передбачень моделі\n",
        "\n",
        "# Розширення зображень та додавання крайового заповнення\n",
        "images_array_resize = np.expand_dims(np.pad(images_array, ((0,0), (2,2), (2,2)), mode='constant'), axis=1)\n",
        "\n",
        "# Цикл по всім зображенням для передбачення\n",
        "for i_image in range(len(images_array)):\n",
        "    # Виклик функції forward_propagation для отримання передбачень\n",
        "    predictions.append(np.argmax(forward_propagation(images_array_resize[i_image])))\n",
        "\n",
        "# Створення фігури та осей для графіку\n",
        "fig, axes = plt.subplots(num_rows, num_cols, figsize=(12, 3))\n",
        "\n",
        "# Цикл по всім відображуваним зображенням\n",
        "for i, ax in enumerate(axes.flatten()):\n",
        "    if i < num_images:  # Перевірка, чи є ще зображення для відображення\n",
        "        ax.imshow(images_array[i])  # Відображення зображення на відповідній позиції\n",
        "        ax.axis('off')  # Вимкнення відображення осей\n",
        "        # Додавання міток під зображення з правильною та передбаченою мітками\n",
        "        ax.text(0.5, -0.2, f\"True: {labels_array[i]}\", size=10, ha=\"center\", transform=ax.transAxes)\n",
        "        ax.text(0.5, -0.4, f\"Pred: {class_names[predictions[i]]}\", size=10, ha=\"center\", transform=ax.transAxes)\n",
        "    else:\n",
        "        ax.axis('off')  # Вимкнення відображення осей для порожніх підграфіків\n",
        "\n",
        "plt.show()  # Відображення графіку"
      ],
      "metadata": {
        "id": "jjulfXh3Huxl"
      },
      "execution_count": null,
      "outputs": []
    }
  ]
}