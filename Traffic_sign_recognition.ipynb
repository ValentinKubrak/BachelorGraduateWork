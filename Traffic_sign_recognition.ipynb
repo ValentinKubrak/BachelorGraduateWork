{
  "nbformat": 4,
  "nbformat_minor": 0,
  "metadata": {
    "colab": {
      "provenance": []
    },
    "kernelspec": {
      "name": "python3",
      "display_name": "Python 3"
    },
    "language_info": {
      "name": "python"
    }
  },
  "cells": [
    {
      "cell_type": "markdown",
      "source": [
        "# Training"
      ],
      "metadata": {
        "id": "fksqMo63O32D"
      }
    },
    {
      "cell_type": "code",
      "execution_count": null,
      "metadata": {
        "id": "E0Tvfc0bOXD3"
      },
      "outputs": [],
      "source": [
        "import os  # Модуль для взаємодії з операційною системою\n",
        "import numpy as np  # Бібліотека для роботи з масивами даних\n",
        "import tensorflow as tf  # Бібліотека для роботи з нейронними мережами\n",
        "from keras.preprocessing.image import img_to_array, ImageDataGenerator  # Модулі для обробки зображень\n",
        "from keras.models import Sequential, save_model  # Модулі для створення та збереження моделі\n",
        "from keras.layers import Dense, Flatten, Activation, Dropout, Conv2D, MaxPooling2D  # Шари нейронних мереж\n",
        "from keras.utils import to_categorical  # Утиліти для роботи з мітками класів\n",
        "from keras.optimizers import SGD  # Оптимізатор навчання\n",
        "from sklearn.model_selection import train_test_split  # Модуль для розбиття даних на навчальний та тестовий набори\n",
        "import matplotlib.pyplot as plt  # Бібліотека для візуалізації даних\n",
        "import time  # Модуль для роботи з часом\n",
        "from PIL import Image  # Модуль для роботи з зображеннями\n",
        "import cv2  # Бібліотека для обробки зображень"
      ]
    },
    {
      "cell_type": "code",
      "source": [
        "import warnings  # Модуль для управління попередженнями\n",
        "warnings.filterwarnings(\"ignore\", category=UserWarning)  # Ігнорувати попередження UserWarning"
      ],
      "metadata": {
        "id": "P099u1kWXKKB"
      },
      "execution_count": null,
      "outputs": []
    },
    {
      "cell_type": "code",
      "source": [
        "data = []  # Створення порожнього списку для даних\n",
        "labels = []  # Створення порожнього списку для міток\n",
        "\n",
        "nb_classes = 43  # Кількість класів\n",
        "batch_size = 32  # Розмір партії даних\n",
        "nb_epoch = 30  # Кількість епох навчання\n",
        "img_rows, img_cols = 32, 32  # Розміри зображення\n",
        "img_channels = 3  # Кількість каналів зображення (RGB)\n",
        "\n",
        "for num in range(0, nb_classes):  # Ітерація по кожному класу\n",
        "    path = os.path.join('drive/MyDrive/GoogleColab/data/Train', str(num))  # Шлях до теки з зображеннями для певного класу\n",
        "    imagePaths = os.listdir(path)  # Отримання списку шляхів до зображень в цій теці\n",
        "    for img in imagePaths:  # Ітерація по кожному зображенню\n",
        "        image = Image.open(path + '/' + img)  # Відкриття зображення\n",
        "        image = cv2.resize(img_to_array(image), (img_rows, img_cols), interpolation=cv2.INTER_LINEAR)  # Зміна розміру зображення\n",
        "        data.append(image)  # Додавання зображення до списку даних\n",
        "        labels.append(num)  # Додавання мітки до списку міток\n",
        "\n",
        "data = np.array(data).astype('float32')  # Конвертація списку даних у масив numpy та зміна типу даних на float32\n",
        "data /= 255  # Нормалізація даних (перетворення значень в діапазон від 0 до 1)\n",
        "\n",
        "labels = to_categorical(np.array(labels), nb_classes)  # Перетворення міток на one-hot вектори\n",
        "\n",
        "X_train, X_test, y_train, y_test = train_test_split(data, labels, test_size=0.2)  # Розбиття даних на тренувальний та тестовий набори"
      ],
      "metadata": {
        "id": "uTDe_S7c83zs"
      },
      "execution_count": null,
      "outputs": []
    },
    {
      "cell_type": "code",
      "source": [
        "y_train_classes = np.argmax(y_train, axis=1)  # Отримання числових міток класів для тренувального набору даних\n",
        "unique_classes, counts = np.unique(y_train_classes, return_counts=True)  # Знаходження унікальних класів та їх кількості в тренувальному наборі даних\n",
        "\n",
        "plt.figure(figsize=(12, 8))  # Створення нового графіку з заданими розмірами\n",
        "plt.bar(unique_classes, counts, align='center', alpha=0.7, color='orange')  # Створення стовпчикової діаграми: унікальні класи на вісі x, кількість елементів на вісі y\n",
        "plt.xlabel('Class')  # Підпис вісі x\n",
        "plt.ylabel('Number of elements')  # Підпис вісі y\n",
        "plt.title('Histogram of class distribution')  # Заголовок графіку\n",
        "plt.xticks(np.arange(nb_classes))  # Задання позначок на вісі x відповідно до унікальних класів\n",
        "plt.show()  # Показ графіку"
      ],
      "metadata": {
        "id": "mYEIdTVOMphP"
      },
      "execution_count": null,
      "outputs": []
    },
    {
      "cell_type": "code",
      "source": [
        "datagen = ImageDataGenerator(\n",
        "    rotation_range=10,  # Діапазон обертання в градусах\n",
        "    width_shift_range=0.1,  # Діапазон зсуву по ширині\n",
        "    height_shift_range=0.1,  # Діапазон зсуву по висоті\n",
        "    shear_range=0.2,  # Діапазон зсуву\n",
        "    zoom_range=0.2,  # Діапазон зуму\n",
        "    horizontal_flip=True,  # Випадкова горизонтальне відображення\n",
        "    fill_mode='nearest'  # Режим заповнення пікселя за межами введення\n",
        ")\n",
        "\n",
        "def augment_data(data, labels, min_samples):\n",
        "    augmented_data = []  # Створення порожнього списку для зберігання розширених зображень\n",
        "    augmented_labels = []  # Створення порожнього списку для зберігання міток розширених зображень\n",
        "\n",
        "    for class_label in range(nb_classes):  # Перебір класів\n",
        "        class_indices = np.where(labels.argmax(axis=1) == class_label)[0]  # Отримання індексів зображень з певним класом\n",
        "        num_samples = len(class_indices)  # Кількість зображень у поточному класі\n",
        "\n",
        "        if num_samples < min_samples:  # Якщо кількість зображень у класі менше мінімальної кількості\n",
        "            num_augmented_samples = min_samples - num_samples  # Кількість зображень, які потрібно розширити\n",
        "            random_indices = np.random.choice(class_indices, num_augmented_samples)  # Випадковий вибір індексів для розширення\n",
        "\n",
        "            for index in random_indices:  # Перебір випадкових індексів\n",
        "                img = data[index]  # Вибір зображення з випадковим індексом\n",
        "                img = img.reshape((1,) + img.shape)  # Зміна форми зображення для генерації партії зображень\n",
        "                augmented_images = []  # Створення порожнього списку для зберігання розширених зображень\n",
        "\n",
        "                for batch in datagen.flow(img, batch_size=1):  # Підвибірка розширених зображень\n",
        "                    augmented_images.append(batch[0])  # Додавання розширеного зображення до списку\n",
        "                    if len(augmented_images) >= 1:  # Якщо кількість розширених зображень достатня\n",
        "                        break  # Зупинка генерації додаткових зображень\n",
        "\n",
        "                for augmented_image in augmented_images:  # Перебір розширених зображень\n",
        "                    augmented_data.append(augmented_image)  # Додавання розширеного зображення до списку\n",
        "                    augmented_labels.append(labels[index])  # Додавання мітки відповідного оригінального зображення\n",
        "\n",
        "    augmented_data = np.array(augmented_data)  # Конвертування списку розширених зображень у масив NumPy\n",
        "    augmented_labels = np.array(augmented_labels)  # Конвертування списку міток розширених зображень у масив NumPy\n",
        "\n",
        "    return np.concatenate((data, augmented_data)), np.concatenate((labels, augmented_labels))  # Повертається об'єднаний масив оригінальних та розширених зображень, а також об'єднаний масив міток\n",
        "\n",
        "X_train, y_train = augment_data(X_train, y_train, min_samples=500)"
      ],
      "metadata": {
        "id": "gzpXHZmziCwX"
      },
      "execution_count": null,
      "outputs": []
    },
    {
      "cell_type": "code",
      "source": [
        "# Отримання індексу класу з найвищою ймовірністю для кожного зображення у тренувальному наборі\n",
        "y_train_classes = np.argmax(y_train, axis=1)\n",
        "# Підрахунок кількості зображень у кожному класі\n",
        "unique_classes, counts = np.unique(y_train_classes, return_counts=True)\n",
        "# Створення нового графіку\n",
        "plt.figure(figsize=(12, 8))\n",
        "# Побудова гістограми\n",
        "plt.bar(unique_classes, counts, align='center', alpha=0.7, color='orange')\n",
        "# Підпис осі x\n",
        "plt.xlabel('Class')\n",
        "# Підпис осі y\n",
        "plt.ylabel('Number of elements')\n",
        "# Заголовок графіку\n",
        "plt.title('Histogram of class distribution')\n",
        "# Встановлення міток на осі x для кожного класу\n",
        "plt.xticks(np.arange(nb_classes))\n",
        "# Відображення графіку\n",
        "plt.show()"
      ],
      "metadata": {
        "id": "v3rNcBiljqYq"
      },
      "execution_count": null,
      "outputs": []
    },
    {
      "cell_type": "code",
      "source": [
        "# Створення моделі Sequential\n",
        "model = Sequential()\n",
        "# Додавання першого шару згорткових нейронів\n",
        "model.add(Conv2D(32, (3, 3), padding='same', input_shape=(32, 32, 3), activation='relu'))\n",
        "# Додавання другого шару згорткових нейронів\n",
        "model.add(Conv2D(32, (3, 3), activation='relu', padding='same'))\n",
        "# Додавання шару пулінгу для зменшення розмірності\n",
        "model.add(MaxPooling2D(pool_size=(2, 2)))\n",
        "# Додавання шару Dropout для запобігання перенавчання\n",
        "model.add(Dropout(0.25))\n",
        "# Додавання третього шару згорткових нейронів\n",
        "model.add(Conv2D(64, (3, 3), padding='same', activation='relu'))\n",
        "# Додавання четвертого шару згорткових нейронів\n",
        "model.add(Conv2D(64, (3, 3), activation='relu'))\n",
        "# Додавання ще одного шару пулінгу\n",
        "model.add(MaxPooling2D(pool_size=(2, 2)))\n",
        "# Додавання ще одного шару Dropout\n",
        "model.add(Dropout(0.25))\n",
        "# Розгладжування вхідних даних перед подачею на повнозв'язний шар\n",
        "model.add(Flatten())\n",
        "# Додавання повнозв'язного шару з 512 нейронами\n",
        "model.add(Dense(512, activation='relu'))\n",
        "# Додавання ще одного шару Dropout\n",
        "model.add(Dropout(0.5))\n",
        "# Додавання повнозв'язного шару з кількістю нейронів, рівною кількості класів\n",
        "model.add(Dense(nb_classes, activation='softmax'))\n",
        "# Компіляція моделі з використанням функції втрат категоріальної крос-ентропії та оптимізатора Adam\n",
        "model.compile(loss='categorical_crossentropy', optimizer='adam', metrics=['accuracy'])"
      ],
      "metadata": {
        "id": "UG5O82SsPGij"
      },
      "execution_count": null,
      "outputs": []
    },
    {
      "cell_type": "code",
      "source": [
        "# Початок вимірювання часу тренування\n",
        "start_time = time.time()\n",
        "# Навчання моделі з використанням навчальних даних\n",
        "model.fit(X_train, y_train,\n",
        "          batch_size=batch_size,\n",
        "          epochs=nb_epoch,\n",
        "          validation_split=0.1,\n",
        "          shuffle=True,\n",
        "          verbose=2)\n",
        "\n",
        "# Кінець вимірювання часу тренування\n",
        "end_time = time.time()\n",
        "# Оцінка ефективності моделі на тестових даних\n",
        "scores = model.evaluate(X_test, y_test, verbose=0)\n",
        "# Розрахунок тривалості тренування\n",
        "hours, remainder = divmod(end_time-start_time, 3600)\n",
        "minutes, seconds = divmod(remainder, 60)\n",
        "print(f\"\\nTraining period: {int(hours)}h:{int(minutes)}m:{int(seconds)}s\")\n",
        "# Виведення точності моделі на тестових даних\n",
        "print(\"Accuracy on test data: %.2f%%\" % (scores[1]*100))\n",
        "# Збереження моделі на диск\n",
        "save_model(model, 'my_model.h5', save_format='h5')\n"
      ],
      "metadata": {
        "id": "8avIQqmaP8jI"
      },
      "execution_count": null,
      "outputs": []
    },
    {
      "cell_type": "markdown",
      "source": [
        "# Recognition"
      ],
      "metadata": {
        "id": "J0H_8Xp_dUT6"
      }
    },
    {
      "cell_type": "code",
      "source": [
        "# Завантаження необхідних бібліотек\n",
        "from keras.models import load_model\n",
        "import os\n",
        "from PIL import Image\n",
        "import matplotlib.pyplot as plt\n",
        "import numpy as np"
      ],
      "metadata": {
        "id": "8JhuYP7zdcy0"
      },
      "execution_count": null,
      "outputs": []
    },
    {
      "cell_type": "code",
      "source": [
        "# Завантаження моделі з файлу my_model.h5\n",
        "model = load_model('my_model.h5')"
      ],
      "metadata": {
        "id": "KpGjbVojdjk6"
      },
      "execution_count": null,
      "outputs": []
    },
    {
      "cell_type": "code",
      "source": [
        "# Визначаємо шлях до теки з зображеннями та вибираємо всі файли .jpg\n",
        "folder_path = \"drive/MyDrive/GoogleColab/data/Images/Test\"\n",
        "image_files = [os.path.join(folder_path, f) for f in os.listdir(folder_path) if f.endswith(\".jpg\")]\n",
        "\n",
        "# Створюємо пустий список для зберігання масивів зображень\n",
        "images_array = []\n",
        "\n",
        "# Проходимося по кожному файлу .jpg у текі\n",
        "for image_file in image_files:\n",
        "    # Відкриваємо кожне зображення\n",
        "    with Image.open(image_file) as original_image:\n",
        "        # Змінюємо розмір зображення на 32x32 та перетворюємо його у масив\n",
        "        resized_image = original_image.resize((32, 32), Image.BICUBIC)\n",
        "        img_array = np.asarray(resized_image, dtype=\"float32\") / 255.0\n",
        "        # Додаємо масив зображення до списку images_array\n",
        "        images_array.append(img_array)"
      ],
      "metadata": {
        "id": "XsWg6aK8dmDD"
      },
      "execution_count": null,
      "outputs": []
    },
    {
      "cell_type": "code",
      "source": [
        "# Перетворення списку масивів зображень у масив NumPy\n",
        "new_images_array = np.array(images_array)\n",
        "\n",
        "# Визначення кількості стовпців та рядків для розміщення зображень у сітці\n",
        "num_cols = 10\n",
        "num_images = len(new_images_array)\n",
        "num_rows = int(np.ceil(num_images / num_cols))\n",
        "\n",
        "# Створення графіку та візуалізація зображень у вигляді сітки\n",
        "fig, axes = plt.subplots(num_rows, num_cols, figsize=(15, 5))\n",
        "\n",
        "for i, ax in enumerate(axes.flatten()):\n",
        "    if i < num_images:\n",
        "        ax.imshow(new_images_array[i])\n",
        "        ax.axis('off')\n",
        "    else:\n",
        "        ax.axis('off')\n",
        "\n",
        "plt.show()"
      ],
      "metadata": {
        "id": "8XUQbCGpS-Ax"
      },
      "execution_count": null,
      "outputs": []
    },
    {
      "cell_type": "code",
      "source": [
        "# Список назв класів\n",
        "class_names = ['3.29 - Обмеження максимальної швидкості 20', '3.29 - Обмеження максимальної швидкості 30', '3.29 - Обмеження максимальної швидкості 50',\n",
        "               '3.29 - Обмеження максимальної швидкості 60', '3.29 - Обмеження максимальної швидкості 70', '3.29 - Обмеження максимальної швидкості 80',\n",
        "               '3.30 - аКінець обмеження максимальної швидкості 80', '3.29 - Обмеження максимальної швидкості 100', '3.29 - Обмеження максимальної швидкості 120',\n",
        "               '3.25 - Обгін заборонено', '3.27 - Обгін вантажним автомобілям заборонено', '1.22 - Перехрещення з другорядною дорогою',\n",
        "               '2.30 - Головна дорога', '2.1 - Дати дорогу', '2.2 - Проїзд без зупинки заборонено', '3.1 - Рух заборонено', '3.30 - Рух вантажних автомобілів заборонено',\n",
        "               '3.21 - В’їзд заборонено', '1.39 - Аварійно-небезпечна ділянка (інша небезпека)', '1.2 - Небезпечний поворот ліворуч',\n",
        "               '1.1 - Небезпечний поворот праворуч', '1.3.2 - Декілька поворотів', '1.10 - Нерівна дорога', '1.13 - Слизька дорога', '1.5.2 - Звуження дороги',\n",
        "               '1.37 - Дорожні роботи', '1.24 - Світлофорне регулювання', '1.32 - Пішохідний перехід', '1.33 - Діти', '1.34 - Виїзд велосипедистів',\n",
        "               'Небезпека снігу чи льоду', '1.36 - Дикі тварини', '3.42 - Кінець усіх заборон і обмежень', '4.2 - Рух праворуч', '4.3 - Рух ліворуч', '4.1 - Рух прямо',\n",
        "               '4.4 - Рух прямо або праворуч', '4.5 - Рух прямо або ліворуч', '4.7 - Об’їзд перешкоди з правого боку', '4.8 - Об’їзд перешкоди з лівого боку',\n",
        "               '4.10 - Круговий рух', '3.26 - Кінець заборони обгону', '3.28 - Кінець заборони обгону вантажним автомобілям']\n",
        "\n",
        "# Передбачення класів для нових зображень\n",
        "predictions = model.predict(new_images_array)\n",
        "predicted_classes = np.argmax(predictions, axis=1)"
      ],
      "metadata": {
        "id": "c_nCae3XS-m_"
      },
      "execution_count": null,
      "outputs": []
    },
    {
      "cell_type": "code",
      "source": [
        "# Визначення кількості стовпчиків та рядків для розміщення зображень\n",
        "num_cols = 1\n",
        "num_images = len(new_images_array)\n",
        "num_rows = int(np.ceil(num_images / num_cols))\n",
        "\n",
        "# Створення фігури та набору підграфіків\n",
        "fig, axes = plt.subplots(num_rows, num_cols, figsize=(25, 15))\n",
        "\n",
        "# Цикл по всіх підграфіках\n",
        "for i, ax in enumerate(axes.flatten()):\n",
        "    # Перевірка, чи індекс не перевищує кількість зображень\n",
        "    if i < num_images:\n",
        "        # Відображення зображення\n",
        "        ax.imshow(new_images_array[i])\n",
        "        # Вимкнення вісей координат\n",
        "        ax.axis('off')\n",
        "        # Додавання тексту з передбаченим класом під зображенням\n",
        "        ax.text(0.5, -0.15, f\"{class_names[predicted_classes[i]]}\", size=10, ha=\"center\", transform=ax.transAxes)\n",
        "    else:\n",
        "        ax.axis('off')\n",
        "\n",
        "# Показ графіку\n",
        "plt.show()"
      ],
      "metadata": {
        "id": "-tBiv1f6TB_R"
      },
      "execution_count": null,
      "outputs": []
    }
  ]
}