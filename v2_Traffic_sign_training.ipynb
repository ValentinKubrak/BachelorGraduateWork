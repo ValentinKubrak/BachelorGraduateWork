{
  "cells": [
    {
      "cell_type": "code",
      "execution_count": null,
      "metadata": {
        "id": "M0OZ9kBo-Yan"
      },
      "outputs": [],
      "source": [
        "from google.colab import drive  # Імпортуємо модуль для роботи Google Drive\n",
        "\n",
        "drive.mount('/content/drive')  # Монтуємо Google Drive до середовища виконання"
      ]
    },
    {
      "cell_type": "code",
      "execution_count": null,
      "metadata": {
        "id": "F5uJ7esv-u51"
      },
      "outputs": [],
      "source": [
        "# Копіюємо архів з анотаціями вмісту дорожніх знаків\n",
        "!cp /content/drive/MyDrive/GoogleColab/datav2/mtsd_fully_annotated_annotation.zip /content/\n",
        "# Копіюємо архів з зображеннями для навчання, частина 0\n",
        "!cp /content/drive/MyDrive/GoogleColab/datav2/mtsd_fully_annotated_images.train.0.zip /content/\n",
        "# Копіюємо архів з зображеннями для навчання, частина 1\n",
        "!cp /content/drive/MyDrive/GoogleColab/datav2/mtsd_fully_annotated_images.train.1.zip /content/\n",
        "# Копіюємо архів з зображеннями для навчання, частина 2\n",
        "!cp /content/drive/MyDrive/GoogleColab/datav2/mtsd_fully_annotated_images.train.2.zip /content/\n",
        "# Копіюємо архів з зображеннями для перевірки\n",
        "!cp /content/drive/MyDrive/GoogleColab/datav2/mtsd_fully_annotated_images.val.zip /content/\n",
        "# Копіюємо архів з тестовими зображеннями\n",
        "!cp /content/drive/MyDrive/GoogleColab/datav2/mtsd_fully_annotated_images.test.zip /content/"
      ]
    },
    {
      "cell_type": "code",
      "execution_count": null,
      "metadata": {
        "id": "Sb6wSmMS-v--"
      },
      "outputs": [],
      "source": [
        "# Імпорт бібліотек\n",
        "import zipfile\n",
        "import os\n",
        "\n",
        "# Функція для розпаковки зображень до хмарних дирекорій\n",
        "def unzip_file(file_path, extract_to):\n",
        "    with zipfile.ZipFile(file_path, 'r') as zip_ref:\n",
        "        zip_ref.extractall(extract_to)  # Розпаковує всі файли з архіву zip в вказаний каталог\n",
        "    os.remove(file_path)  # Видаляє zip-файл після розпакування для економії місця на диску\n",
        "\n",
        "# Створення необхідних каталогів, якщо вони не існують\n",
        "os.makedirs('/content/mtsd/annotations', exist_ok=True)\n",
        "os.makedirs('/content/mtsd/images/train', exist_ok=True)\n",
        "os.makedirs('/content/mtsd/images/val', exist_ok=True)\n",
        "os.makedirs('/content/mtsd/images/test', exist_ok=True)\n",
        "\n",
        "# Розпакування анотаційних файлів до каталогу анотацій\n",
        "unzip_file('/content/mtsd_fully_annotated_annotation.zip', '/content/mtsd/annotations')\n",
        "# Розпакування зображень для навчання до каталогу train\n",
        "unzip_file('/content/mtsd_fully_annotated_images.train.0.zip', '/content/mtsd/images/train')\n",
        "unzip_file('/content/mtsd_fully_annotated_images.train.1.zip', '/content/mtsd/images/train')\n",
        "unzip_file('/content/mtsd_fully_annotated_images.train.2.zip', '/content/mtsd/images/train')\n",
        "# Розпакування зображень для перевірки до каталогу val\n",
        "unzip_file('/content/mtsd_fully_annotated_images.val.zip', '/content/mtsd/images/val')\n",
        "# Розпакування зображень для тестування до каталогу test\n",
        "unzip_file('/content/mtsd_fully_annotated_images.test.zip', '/content/mtsd/images/test')"
      ]
    },
    {
      "cell_type": "code",
      "execution_count": null,
      "metadata": {
        "id": "4luS3BgGCx7U"
      },
      "outputs": [],
      "source": [
        "import shutil\n",
        "\n",
        "# Функція для переміщення зображень між директоріями\n",
        "def move_images(src_dir, dst_dir):\n",
        "    for root, _, files in os.walk(src_dir):\n",
        "        for file in files:\n",
        "            if file.endswith(('.jpg', '.jpeg', '.png')):\n",
        "                shutil.move(os.path.join(root, file), dst_dir)  # Переміщує зображення у кінцевий каталог\n",
        "    shutil.rmtree(src_dir)  # Видаляє вихідний каталог після переміщення для економії місця на диску\n",
        "\n",
        "# Переміщення зображень для навчання у кінцевий каталог train\n",
        "move_images('/content/mtsd/images/train/images', '/content/mtsd/images/train')\n",
        "# Переміщення зображень для перевірки у кінцевий каталог val\n",
        "move_images('/content/mtsd/images/val/images', '/content/mtsd/images/val')\n",
        "# Переміщення зображень для тестування у кінцевий каталог test\n",
        "move_images('/content/mtsd/images/test/images', '/content/mtsd/images/test')"
      ]
    },
    {
      "cell_type": "code",
      "execution_count": null,
      "metadata": {
        "id": "MloONGWDw0mX"
      },
      "outputs": [],
      "source": [
        "import json  # Імпортуємо модуль для роботи з JSON\n",
        "import matplotlib.pyplot as plt  # Імпортуємо пакет для візуалізації даних\n",
        "from collections import Counter  # Імпортуємо клас Counter з модуля collections для легкого підрахунку елементів\n",
        "\n",
        "def count_classes(annotations_dir):\n",
        "    # Ця функція призначена для підрахунку кількості екземплярів кожного класу у наборі даних\n",
        "    class_counter = Counter()  # Створюємо об'єкт класу Counter для підрахунку\n",
        "    for root, _, files in os.walk(annotations_dir):  # Проходимо по всіх файлах у директорії з анотаціями\n",
        "        for file in files:\n",
        "            if file.endswith('.json'):  # Якщо файл має розширення .json\n",
        "                file_path = os.path.join(root, file)  # Формуємо повний шлях до файлу\n",
        "                with open(file_path, 'r') as f:\n",
        "                    data = json.load(f)  # Завантажуємо дані з файлу JSON\n",
        "                    for obj in data.get('objects', []):  # Перебираємо всі об'єкти у файлі\n",
        "                        class_counter[obj['label']] += 1  # Додаємо знайдений клас до лічильника\n",
        "    return class_counter  # Повертаємо лічильник з підрахованими класами\n",
        "\n",
        "annotations_dir = '/content/mtsd/annotations/mtsd_v2_fully_annotated/annotations'\n",
        "\n",
        "# Підрахунок кількості екземплярів кожного класу в анотаціях\n",
        "class_counts = count_classes(annotations_dir)\n",
        "\n",
        "N = 20  # Кількість найпопулярніших класів, які ми хочемо відобразити\n",
        "top_classes = class_counts.most_common(N)[1:]  # Отримуємо N найпопулярніших класів\n",
        "labels, counts = zip(*top_classes)  # Розділяємо назви класів та кількості екземплярів для побудови графіку\n",
        "\n",
        "# Побудова стовпчикової діаграми\n",
        "plt.figure(figsize=(10, 8))  # Встановлюємо розмір графіку\n",
        "plt.barh(labels, counts)  # Побудова стовпчикової діаграми\n",
        "plt.xlabel('Number of Instances')  # Підпис осі x\n",
        "plt.ylabel('Class Label')  # Підпис осі y\n",
        "plt.title(f'Top {N} Class Distribution in MTSD Annotations')  # Заголовок графіку\n",
        "plt.gca().invert_yaxis()  # Реверс осі y, щоб найбільш популярні класи були зверху\n",
        "plt.show()  # Відображаємо графік"
      ]
    },
    {
      "cell_type": "code",
      "execution_count": null,
      "metadata": {
        "id": "DLa2bIZ0wt_P"
      },
      "outputs": [],
      "source": [
        "def convert_annotations(json_dir, yolo_dir, classes, file_list):\n",
        "    os.makedirs(yolo_dir, exist_ok=True)  # Створюємо директорію для зберігання анотацій у форматі YOLO, якщо її ще не існує\n",
        "    for root, _, files in os.walk(json_dir):  # Проходимо по всіх файлах у директорії з JSON анотаціями\n",
        "        for file in files:\n",
        "            if file.endswith('.json') and file.replace('.json', '.jpg') in file_list:  # Якщо файл анотації JSON та відповідний йому файл зображення присутні у списку файлів\n",
        "                json_path = os.path.join(root, file)  # Формуємо шлях до JSON анотації\n",
        "                yolo_path = os.path.join(yolo_dir, file.replace('.json', '.txt'))  # Формуємо шлях до вихідного файлу YOLO анотації\n",
        "                with open(json_path, 'r') as f:  # Відкриваємо JSON анотацію для читання\n",
        "                    data = json.load(f)  # Завантажуємо дані з JSON анотації\n",
        "                    yolo_annotations = []  # Створюємо порожній список для зберігання анотацій у форматі YOLO\n",
        "                    img_width = data['width']  # Отримуємо ширину зображення з анотації\n",
        "                    img_height = data['height']  # Отримуємо висоту зображення з анотації\n",
        "                    for obj in data.get('objects', []):  # Перебираємо всі об'єкти у JSON анотації\n",
        "                        if obj['label'] not in classes:  # Якщо клас об'єкту не входить до списку класів, пропускаємо цей об'єкт\n",
        "                            continue\n",
        "                        class_id = classes.index(obj['label'])  # Отримуємо індекс класу об'єкту в списку класів\n",
        "                        bbox = obj['bbox']  # Отримуємо координати прямокутника, обмежуючого об'єкт\n",
        "                        x_center = (bbox['xmin'] + bbox['xmax']) / 2 / img_width  # Обчислюємо нормалізовану координату x центра об'єкту\n",
        "                        y_center = (bbox['ymin'] + bbox['ymax']) / 2 / img_height  # Обчислюємо нормалізовану координату y центра об'єкту\n",
        "                        width = (bbox['xmax'] - bbox['xmin']) / img_width  # Обчислюємо нормалізовану ширину об'єкту\n",
        "                        height = (bbox['ymax'] - bbox['ymin']) / img_height  # Обчислюємо нормалізовану висоту об'єкту\n",
        "                        yolo_annotations.append(f\"{class_id} {x_center:.6f} {y_center:.6f} {width:.6f} {height:.6f}\")  # Додаємо анотацію у форматі YOLO до списку\n",
        "                with open(yolo_path, 'w') as yf:  # Відкриваємо файл YOLO анотації для запису\n",
        "                    yf.write(\"\\n\".join(yolo_annotations))  # Записуємо всі анотації у файл у форматі YOLO\n",
        "\n",
        "def get_image_files(image_dir):\n",
        "    image_files = []  # Створюємо порожній список для зберігання назв файлів зображень\n",
        "    for root, _, files in os.walk(image_dir):  # Проходимо по всіх файлах у директорії з зображеннями\n",
        "        for file in files:\n",
        "            if file.endswith(('.jpg', '.jpeg', '.png')):  # Якщо файл має розширення .jpg, .jpeg або .png\n",
        "                image_files.append(file)  # Додаємо файл до списку зображень\n",
        "    return image_files  # Повертаємо список назв файлів зображень\n",
        "\n",
        "# Отримання списків файлів зображень для навчання та валідації\n",
        "train_files = get_image_files('/content/mtsd/images/train')  # Отримуємо список файлів зображень для навчання\n",
        "val_files = get_image_files('/content/mtsd/images/val')  # Отримуємо список файлів зображень для валідації\n",
        "\n",
        "# Створення директорій для зберігання YOLO анотацій\n",
        "os.makedirs('/content/mtsd/labels/train', exist_ok=True)  # Створюємо директорію для навчальних анотацій YOLO\n",
        "os.makedirs('/content/mtsd/labels/val', exist_ok=True)  # Створюємо директорію для валідаційних анотацій YOLO\n",
        "\n",
        "# Конвертація анотацій у форматі JSON в формат YOLO\n",
        "convert_annotations('/content/mtsd/annotations/mtsd_v2_fully_annotated/annotations', '/content/mtsd/labels/train', list(class_counts.keys()), train_files)\n",
        "convert_annotations('/content/mtsd/annotations/mtsd_v2_fully_annotated/annotations', '/content/mtsd/labels/val', list(class_counts.keys()), val_files)"
      ]
    },
    {
      "cell_type": "code",
      "execution_count": null,
      "metadata": {
        "id": "nuD9QOZGayVl"
      },
      "outputs": [],
      "source": [
        "# Формування YAML, що містить інформацію про шляхи до даних, кількість класів та їх назви\n",
        "data_yaml = f\"\"\"\n",
        "train: /content/mtsd/images/train\n",
        "val: /content/mtsd/images/val\n",
        "test: /content/mtsd/images/test\n",
        "\n",
        "nc: {len(class_counts)}\n",
        "names: {list(class_counts.keys())}\n",
        "\"\"\"\n",
        "\n",
        "with open('/content/mtsd/data.yaml', 'w') as f:  # Відкриття файлу для запису\n",
        "    f.write(data_yaml)  # Запис рядка YAML у файл"
      ]
    },
    {
      "cell_type": "code",
      "source": [
        "import matplotlib.pyplot as plt  # Імпорт модуля для візуалізації даних\n",
        "import matplotlib.patches as patches  # Імпорт модуля для роботи з графічними об'єктами\n",
        "import cv2  # Імпорт бібліотеки OpenCV для роботи з зображеннями\n",
        "\n",
        "def visualize_annotations(image_path, annotation_path, class_names):\n",
        "    image = cv2.imread(image_path)  # Завантаження зображення за вказаним шляхом\n",
        "    image = cv2.cvtColor(image, cv2.COLOR_BGR2RGB)  # Конвертація зображення з формату BGR до RGB\n",
        "    fig, ax = plt.subplots(1)  # Створення нового графічного вікна та осей\n",
        "\n",
        "    ax.imshow(image)  # Відображення зображення на графіку\n",
        "\n",
        "    with open(annotation_path, 'r') as f:  # Відкриття файлу анотації для читання\n",
        "        lines = f.readlines()  # Читання всіх рядків анотації\n",
        "        for line in lines:  # Перебір кожного рядка анотації\n",
        "            class_id, x_center, y_center, width, height = map(float, line.split())  # Розбивка рядка на окремі значення\n",
        "            x_center, y_center, width, height = int(x_center * image.shape[1]), int(y_center * image.shape[0]), int(width * image.shape[1]), int(height * image.shape[0])  # Конвертація нормалізованих координат у пікселі\n",
        "            x_min, y_min = x_center - width // 2, y_center - height // 2  # Обчислення координат верхнього лівого кута прямокутника\n",
        "            rect = patches.Rectangle((x_min, y_min), width, height, linewidth=1, edgecolor='g', facecolor='none')  # Створення прямокутника для відображення області анотації\n",
        "            ax.add_patch(rect)  # Додавання прямокутника до відображення\n",
        "            ax.text(x_min, y_min - 5, class_names[int(class_id)], fontsize=8, color='g')  # Додавання тексту з назвою класу над прямокутником\n",
        "\n",
        "    plt.show()  # Відображення зображення з анотаціями\n",
        "\n",
        "# Шлях до зображення та анотації, а також список назв класів\n",
        "image_path = '/content/mtsd/images/train/0ghzRywyo186i5Q_Soi_pg.jpg'\n",
        "annotation_path = '/content/mtsd/labels/train/0ghzRywyo186i5Q_Soi_pg.txt'\n",
        "visualize_annotations(image_path, annotation_path, list(class_counts.keys()))  # Виклик функції візуалізації"
      ],
      "metadata": {
        "id": "QSse2KvrcOB9"
      },
      "execution_count": null,
      "outputs": []
    },
    {
      "cell_type": "code",
      "execution_count": null,
      "metadata": {
        "id": "fQGdCG-tbRyp"
      },
      "outputs": [],
      "source": [
        "# Клонування репозиторію YOLOv5 з GitHub\n",
        "!git clone https://github.com/ultralytics/yolov5\n",
        "# Перехід до каталогу з клонованим репозиторієм\n",
        "%cd yolov5\n",
        "# Встановлення всіх необхідних залежностей за допомогою файлу requirements.txt\n",
        "!pip install -r requirements.txt"
      ]
    },
    {
      "cell_type": "code",
      "execution_count": null,
      "metadata": {
        "id": "ahBwjQAwlLwY"
      },
      "outputs": [],
      "source": [
        "# Команда для тренування моделі YOLOv5\n",
        "!python train.py \\\n",
        "    --img 1280 \\  # Розмір зображення, що використовується для тренування\n",
        "    --batch 16 \\  # Розмір партії (кількість зображень, що обробляється одночасно)\n",
        "    --epochs 10 \\  # Кількість епох тренування\n",
        "    --data \"/content/mtsd/data.yaml\" \\  # Шлях до файлу конфігурації даних YAML\n",
        "    --weights yolov5m6.pt \\  # Ваги попередньо навченої моделі, які будуть використані для початкового тренування\n",
        "    --cache  # Використовувати кеш для швидкого завантаження даних під час тренування"
      ]
    },
    {
      "cell_type": "code",
      "source": [
        "# optional\n",
        "!python train.py --img 1280 --batch 16 --epochs 20 --data \"/content/mtsd/data.yaml\" --weights runs/train/exp/weights/last.pt --cache"
      ],
      "metadata": {
        "id": "rTSp7zV90U2m"
      },
      "execution_count": null,
      "outputs": []
    },
    {
      "cell_type": "code",
      "source": [
        "import os  # Імпортуємо модуль для роботи з операційною системою\n",
        "import shutil  # Імпортуємо модуль для роботи з файловою системою\n",
        "\n",
        "source_dir = '/content/yolov5'  # Вказуємо директорію, яку ми хочемо скопіювати\n",
        "destination_dir = '/content/drive/MyDrive/GoogleColab/yolov5_project'  # Вказуємо цільову директорію, куди ми хочемо скопіювати\n",
        "\n",
        "# Перевіряємо, чи існує цільова директорія, і якщо так, видаляємо її\n",
        "if os.path.exists(destination_dir):\n",
        "    shutil.rmtree(destination_dir)\n",
        "\n",
        "# Копіюємо вміст джерелої директорії у цільову директорію\n",
        "shutil.copytree(source_dir, destination_dir)"
      ],
      "metadata": {
        "id": "HK55YoHEjCFi"
      },
      "execution_count": null,
      "outputs": []
    }
  ],
  "metadata": {
    "colab": {
      "provenance": [],
      "machine_shape": "hm",
      "gpuType": "L4"
    },
    "kernelspec": {
      "display_name": "Python 3",
      "name": "python3"
    },
    "language_info": {
      "name": "python"
    },
    "accelerator": "GPU"
  },
  "nbformat": 4,
  "nbformat_minor": 0
}